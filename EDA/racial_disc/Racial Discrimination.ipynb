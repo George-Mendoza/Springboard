{
 "cells": [
  {
   "cell_type": "markdown",
   "metadata": {},
   "source": [
    "# Examining Racial Discrimination in the US Job Market\n",
    "\n",
    "### Background\n",
    "Racial discrimination continues to be pervasive in cultures throughout the world. Researchers examined the level of racial discrimination in the United States labor market by randomly assigning identical résumés to black-sounding or white-sounding names and observing the impact on requests for interviews from employers.\n",
    "\n",
    "### Data\n",
    "In the dataset provided, each row represents a resume. The 'race' column has two values, 'b' and 'w', indicating black-sounding and white-sounding. The column 'call' has two values, 1 and 0, indicating whether the resume received a call from employers or not.\n",
    "\n",
    "Note that the 'b' and 'w' values in race are assigned randomly to the resumes when presented to the employer."
   ]
  },
  {
   "cell_type": "markdown",
   "metadata": {},
   "source": [
    "### Exercises\n",
    "You will perform a statistical analysis to establish whether race has a significant impact on the rate of callbacks for resumes.\n",
    "\n",
    "Answer the following questions **in this notebook below and submit to your Github account**. \n",
    "\n",
    "   1. What test is appropriate for this problem? Does CLT apply?\n",
    "   2. What are the null and alternate hypotheses?\n",
    "   3. Compute margin of error, confidence interval, and p-value.\n",
    "   4. Write a story describing the statistical significance in the context or the original problem.\n",
    "   5. Does your analysis mean that race/name is the most important factor in callback success? Why or why not? If not, how would you amend your analysis?\n",
    "\n",
    "You can include written notes in notebook cells using Markdown: \n",
    "   - In the control panel at the top, choose Cell > Cell Type > Markdown\n",
    "   - Markdown syntax: http://nestacms.com/docs/creating-content/markdown-cheat-sheet\n",
    "\n",
    "\n",
    "#### Resources\n",
    "+ Experiment information and data source: http://www.povertyactionlab.org/evaluation/discrimination-job-market-united-states\n",
    "+ Scipy statistical methods: http://docs.scipy.org/doc/scipy/reference/stats.html \n",
    "+ Markdown syntax: http://nestacms.com/docs/creating-content/markdown-cheat-sheet\n",
    "****"
   ]
  },
  {
   "cell_type": "code",
   "execution_count": 1,
   "metadata": {},
   "outputs": [],
   "source": [
    "import pandas as pd\n",
    "import numpy as np\n",
    "from scipy import stats"
   ]
  },
  {
   "cell_type": "code",
   "execution_count": 2,
   "metadata": {},
   "outputs": [
    {
     "data": {
      "text/plain": [
       "array(['id', 'ad', 'education', 'ofjobs', 'yearsexp', 'honors',\n",
       "       'volunteer', 'military', 'empholes', 'occupspecific', 'occupbroad',\n",
       "       'workinschool', 'email', 'computerskills', 'specialskills',\n",
       "       'firstname', 'sex', 'race', 'h', 'l', 'call', 'city', 'kind',\n",
       "       'adid', 'fracblack', 'fracwhite', 'lmedhhinc', 'fracdropout',\n",
       "       'fraccolp', 'linc', 'col', 'expminreq', 'schoolreq', 'eoe',\n",
       "       'parent_sales', 'parent_emp', 'branch_sales', 'branch_emp', 'fed',\n",
       "       'fracblack_empzip', 'fracwhite_empzip', 'lmedhhinc_empzip',\n",
       "       'fracdropout_empzip', 'fraccolp_empzip', 'linc_empzip', 'manager',\n",
       "       'supervisor', 'secretary', 'offsupport', 'salesrep', 'retailsales',\n",
       "       'req', 'expreq', 'comreq', 'educreq', 'compreq', 'orgreq', 'manuf',\n",
       "       'transcom', 'bankreal', 'trade', 'busservice', 'othservice',\n",
       "       'missind', 'ownership'], dtype=object)"
      ]
     },
     "execution_count": 2,
     "metadata": {},
     "output_type": "execute_result"
    }
   ],
   "source": [
    "data = pd.io.stata.read_stata('data/us_job_market_discrimination.dta')\n",
    "data.columns.values"
   ]
  },
  {
   "cell_type": "code",
   "execution_count": 3,
   "metadata": {},
   "outputs": [
    {
     "name": "stdout",
     "output_type": "stream",
     "text": [
      "sample sizes -- black: 2435 , white: 2435\n",
      "callback proportion --  black: 0.064476386037 , white: 0.0965092402464\n"
     ]
    }
   ],
   "source": [
    "data = data[['race', 'call']]\n",
    "data_b = data[data.race=='b']\n",
    "data_w = data[data.race=='w']\n",
    "\n",
    "b_frac = sum(data_b['call'])/len(data_b['call'])\n",
    "w_frac = sum(data_w['call'])/len(data_w['call'])\n",
    "\n",
    "print('sample sizes -- black:', len(data_b), ', white:', len(data_w))\n",
    "print('callback proportion -- ', 'black:', b_frac, ', white:', w_frac)"
   ]
  },
  {
   "cell_type": "markdown",
   "metadata": {},
   "source": [
    "### 1. What test is appropriate for this problem? Does CLT apply?"
   ]
  },
  {
   "cell_type": "markdown",
   "metadata": {},
   "source": [
    "A z-test is appropriate because we're comparing differences in proportions to a null hypothesis that there is no difference in the two populations and have a sufficiently big sample size for each population. Instead of a mean, we use the proportion.\n",
    "\n",
    "The Central Limit theorum still applies to categorical data--the larger the sample, the closer to normal the distribution becomes."
   ]
  },
  {
   "cell_type": "markdown",
   "metadata": {},
   "source": [
    "### 2. What are the null and alternate hypotheses?\n",
    "\n",
    "Null hypothesis: There is no significant difference between the offer rate between people with black-sounding and white-sounding names.\n",
    "\n",
    "Alternate hypothesis: There is a significant difference in the call-back rate."
   ]
  },
  {
   "cell_type": "markdown",
   "metadata": {},
   "source": [
    "### 3. Compute margin of error, confidence interval, and p-value."
   ]
  },
  {
   "cell_type": "code",
   "execution_count": 4,
   "metadata": {},
   "outputs": [
    {
     "name": "stdout",
     "output_type": "stream",
     "text": [
      "error: 0.00778337058668\n",
      "95% Confidence Interval: [0.016777447859559147, 0.047288260559332024]\n",
      "z-test: (4.1147053567507346, 3.8767429116085706e-05)\n"
     ]
    }
   ],
   "source": [
    "zscore = 1.96 # 95% Confidence level\n",
    "se = np.sqrt((b_frac*(1 - b_frac)/(len(data_b))) + (w_frac*(1 - w_frac) /(len(data_w))))\n",
    "margin = abs(zscore*se)\n",
    "print('error:', se)\n",
    "\n",
    "diff = w_frac - b_frac\n",
    "CI = [diff - margin, diff + margin]\n",
    "print('95% Confidence Interval:', CI)\n",
    "\n",
    "from statsmodels.stats.weightstats import ztest\n",
    "ztest = ztest(data.call[data.race == 'w'],data.call[data.race == 'b'], alternative = 'two-sided')\n",
    "\n",
    "print('z-test:', ztest)"
   ]
  },
  {
   "cell_type": "markdown",
   "metadata": {},
   "source": [
    "### 4. Write a story describing the statistical significance in the context or the original problem."
   ]
  },
  {
   "cell_type": "markdown",
   "metadata": {},
   "source": [
    "That the the p-value is close to zero, suggests that our alternate hypothesis is more likely: black-sounding names lead to a lower call-back rate."
   ]
  },
  {
   "cell_type": "markdown",
   "metadata": {},
   "source": [
    "### 5. Does your analysis mean that race/name is the most important factor in callback success? Why or why not? If not, how would you amend your analysis?"
   ]
  },
  {
   "cell_type": "markdown",
   "metadata": {},
   "source": [
    "This analysis does not speak to other factors in callback success. A full analysis would look at other important hiring factors like: education, numbers of jobs, and years experience. Are potential employees with 'black-sounding' names less educated? Just as experienced? A better approach would be to use linear regression with multiple variables and/or an anlysis on the covariance of call back success and the information available in the original data set."
   ]
  },
  {
   "cell_type": "code",
   "execution_count": null,
   "metadata": {},
   "outputs": [],
   "source": []
  }
 ],
 "metadata": {
  "kernelspec": {
   "display_name": "Python 3",
   "language": "python",
   "name": "python3"
  },
  "language_info": {
   "codemirror_mode": {
    "name": "ipython",
    "version": 3
   },
   "file_extension": ".py",
   "mimetype": "text/x-python",
   "name": "python",
   "nbconvert_exporter": "python",
   "pygments_lexer": "ipython3",
   "version": "3.6.3"
  }
 },
 "nbformat": 4,
 "nbformat_minor": 2
}
